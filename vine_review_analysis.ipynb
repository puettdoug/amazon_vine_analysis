{
  "nbformat": 4,
  "nbformat_minor": 0,
  "metadata": {
    "colab": {
      "provenance": [],
      "collapsed_sections": []
    },
    "kernelspec": {
      "name": "python3",
      "display_name": "Python 3"
    },
    "nteract": {
      "version": "0.12.3"
    },
    "language_info": {
      "name": "python"
    }
  },
  "cells": [
    {
      "cell_type": "code",
      "metadata": {
        "id": "V58rxea0HqSa",
        "colab": {
          "base_uri": "https://localhost:8080/"
        },
        "outputId": "f997e056-81db-4ca2-a391-d611564356d7"
      },
      "source": [
        "import os\n",
        "# Find the latest version of spark 3.0  from http://www.apache.org/dist/spark/ and enter as the spark version\n",
        "# For example:\n",
        "# spark_version = 'spark-3.0.3'\n",
        "spark_version = 'spark-3.3.0'\n",
        "os.environ['SPARK_VERSION']=spark_version\n",
        "\n",
        "# Install Spark and Java\n",
        "!apt-get update\n",
        "!apt-get install openjdk-11-jdk-headless -qq > /dev/null\n",
        "!wget -q http://www.apache.org/dist/spark/$SPARK_VERSION/$SPARK_VERSION-bin-hadoop3.tgz\n",
        "!tar xf $SPARK_VERSION-bin-hadoop3.tgz\n",
        "!pip install -q findspark\n",
        "\n",
        "# Set Environment Variables\n",
        "import os\n",
        "os.environ[\"JAVA_HOME\"] = \"/usr/lib/jvm/java-11-openjdk-amd64\"\n",
        "os.environ[\"SPARK_HOME\"] = f\"/content/{spark_version}-bin-hadoop3\"\n",
        "\n",
        "# Start a SparkSession\n",
        "import findspark\n",
        "findspark.init()\n"
      ],
      "execution_count": 1,
      "outputs": [
        {
          "output_type": "stream",
          "name": "stdout",
          "text": [
            "Get:1 https://cloud.r-project.org/bin/linux/ubuntu bionic-cran40/ InRelease [3,626 B]\n",
            "Get:2 http://security.ubuntu.com/ubuntu bionic-security InRelease [88.7 kB]\n",
            "Ign:3 https://developer.download.nvidia.com/compute/machine-learning/repos/ubuntu1804/x86_64  InRelease\n",
            "Hit:4 http://archive.ubuntu.com/ubuntu bionic InRelease\n",
            "Hit:5 http://ppa.launchpad.net/c2d4u.team/c2d4u4.0+/ubuntu bionic InRelease\n",
            "Get:6 https://developer.download.nvidia.com/compute/cuda/repos/ubuntu1804/x86_64  InRelease [1,581 B]\n",
            "Hit:7 https://developer.download.nvidia.com/compute/machine-learning/repos/ubuntu1804/x86_64  Release\n",
            "Get:8 http://archive.ubuntu.com/ubuntu bionic-updates InRelease [88.7 kB]\n",
            "Hit:9 http://ppa.launchpad.net/cran/libgit2/ubuntu bionic InRelease\n",
            "Hit:10 http://ppa.launchpad.net/deadsnakes/ppa/ubuntu bionic InRelease\n",
            "Get:11 http://archive.ubuntu.com/ubuntu bionic-backports InRelease [83.3 kB]\n",
            "Hit:12 http://ppa.launchpad.net/graphics-drivers/ppa/ubuntu bionic InRelease\n",
            "Get:13 https://developer.download.nvidia.com/compute/cuda/repos/ubuntu1804/x86_64  Packages [950 kB]\n",
            "Get:15 http://security.ubuntu.com/ubuntu bionic-security/universe amd64 Packages [1,546 kB]\n",
            "Get:16 http://archive.ubuntu.com/ubuntu bionic-updates/main amd64 Packages [3,424 kB]\n",
            "Get:17 http://security.ubuntu.com/ubuntu bionic-security/main amd64 Packages [2,992 kB]\n",
            "Get:18 http://archive.ubuntu.com/ubuntu bionic-updates/universe amd64 Packages [2,324 kB]\n",
            "Fetched 11.5 MB in 5s (2,169 kB/s)\n",
            "Reading package lists... Done\n"
          ]
        }
      ]
    },
    {
      "cell_type": "code",
      "metadata": {
        "id": "_xKwTpATHqSe",
        "colab": {
          "base_uri": "https://localhost:8080/"
        },
        "outputId": "c97117fd-5fc8-4deb-a94f-ef6d2f9bd9ec"
      },
      "source": [
        "# Download the Postgres driver that will allow Spark to interact with Postgres.\n",
        "!wget https://jdbc.postgresql.org/download/postgresql-42.2.16.jar"
      ],
      "execution_count": 2,
      "outputs": [
        {
          "output_type": "stream",
          "name": "stdout",
          "text": [
            "--2022-10-08 17:37:09--  https://jdbc.postgresql.org/download/postgresql-42.2.16.jar\n",
            "Resolving jdbc.postgresql.org (jdbc.postgresql.org)... 72.32.157.228, 2001:4800:3e1:1::228\n",
            "Connecting to jdbc.postgresql.org (jdbc.postgresql.org)|72.32.157.228|:443... connected.\n",
            "HTTP request sent, awaiting response... 200 OK\n",
            "Length: 1002883 (979K) [application/java-archive]\n",
            "Saving to: ‘postgresql-42.2.16.jar’\n",
            "\n",
            "postgresql-42.2.16. 100%[===================>] 979.38K  4.52MB/s    in 0.2s    \n",
            "\n",
            "2022-10-08 17:37:10 (4.52 MB/s) - ‘postgresql-42.2.16.jar’ saved [1002883/1002883]\n",
            "\n"
          ]
        }
      ]
    },
    {
      "cell_type": "code",
      "metadata": {
        "id": "MMqDAjVS0KN9"
      },
      "source": [
        "from pyspark.sql import SparkSession\n",
        "spark = SparkSession.builder.appName(\"M16-Amazon-Challenge\").config(\"spark.driver.extraClassPath\",\"/content/postgresql-42.2.16.jar\").getOrCreate()"
      ],
      "execution_count": 3,
      "outputs": []
    },
    {
      "cell_type": "markdown",
      "metadata": {
        "id": "cyBsySGuY-9V"
      },
      "source": [
        "### Load Amazon Data into Spark DataFrame"
      ]
    },
    {
      "cell_type": "code",
      "metadata": {
        "id": "CtCmBhQJY-9Z",
        "colab": {
          "base_uri": "https://localhost:8080/"
        },
        "outputId": "d9c6c68f-bf47-4a40-ae66-77fb54e1d680"
      },
      "source": [
        "from pyspark import SparkFiles\n",
        "url = \"https://s3.amazonaws.com/amazon-reviews-pds/tsv/amazon_reviews_us_Books_v1_00.tsv.gz\"\n",
        "spark.sparkContext.addFile(url)\n",
        "df = spark.read.option(\"encoding\", \"UTF-8\").csv(SparkFiles.get(\"\"), sep=\"\\t\", header=True, inferSchema=True)\n",
        "df.show()"
      ],
      "execution_count": 4,
      "outputs": [
        {
          "output_type": "stream",
          "name": "stdout",
          "text": [
            "+-----------+-----------+--------------+----------+--------------+--------------------+----------------+-----------+-------------+-----------+----+-----------------+--------------------+--------------------+-------------------+\n",
            "|marketplace|customer_id|     review_id|product_id|product_parent|       product_title|product_category|star_rating|helpful_votes|total_votes|vine|verified_purchase|     review_headline|         review_body|        review_date|\n",
            "+-----------+-----------+--------------+----------+--------------+--------------------+----------------+-----------+-------------+-----------+----+-----------------+--------------------+--------------------+-------------------+\n",
            "|         US|   25933450| RJOVP071AVAJO|0439873800|      84656342|There Was an Old ...|           Books|          5|            0|          0|   N|                Y|          Five Stars|I love it and so ...|2015-08-31 00:00:00|\n",
            "|         US|    1801372|R1ORGBETCDW3AI|1623953553|     729938122|      I Saw a Friend|           Books|          5|            0|          0|   N|                Y|Please buy \"I Saw...|My wife and I ord...|2015-08-31 00:00:00|\n",
            "|         US|    5782091| R7TNRFQAOUTX5|142151981X|     678139048|Black Lagoon, Vol. 6|           Books|          5|            0|          0|   N|                Y|       Shipped fast.|Great book just l...|2015-08-31 00:00:00|\n",
            "|         US|   32715830|R2GANXKDIFZ6OI|014241543X|     712432151|           If I Stay|           Books|          5|            0|          0|   N|                N|          Five Stars|        So beautiful|2015-08-31 00:00:00|\n",
            "|         US|   14005703|R2NYB6C3R8LVN6|1604600527|     800572372|Stars 'N Strips F...|           Books|          5|            2|          2|   N|                Y|          Five Stars|Enjoyed the autho...|2015-08-31 00:00:00|\n",
            "|         US|   36205738|R13U5PBJI1H94K|0399170863|     559876774|            The Liar|           Books|          2|            1|          1|   N|                N|PREDICTABLE ALMOS...|Two or three page...|2015-08-31 00:00:00|\n",
            "|         US|   44121167|R1H8UVH990F8VE|1517007240|     299984591|Devil in the Deta...|           Books|          5|            2|          2|   N|                N|The Monastery Mur...|&#34;Secrets in t...|2015-08-31 00:00:00|\n",
            "|         US|   16519255|R2MC0N30WZMRQ5|0671728725|     821650353|Knowing When to S...|           Books|          5|            0|          0|   N|                Y|          Five Stars|          I love it!|2015-08-31 00:00:00|\n",
            "|         US|   49361350| R2NO2HXK16Y4J|1111349533|     419457767|The American Pageant|           Books|          5|            0|          0|   N|                Y|          Five Stars|It was a great pu...|2015-08-31 00:00:00|\n",
            "|         US|   11423253|R245YIAVJK82ZL|812211637X|     285887177|Punjabi C.L. Bibl...|           Books|          5|            0|          0|   N|                Y|          Five Stars|Quality product f...|2015-08-31 00:00:00|\n",
            "|         US|   37536260| RFBMLBWQOZ1UM|0679413359|      58983679|The Aeneid (Every...|           Books|          5|            0|          0|   N|                Y|          Five Stars|          Very happy|2015-08-31 00:00:00|\n",
            "|         US|   23614950| RHE1FEWV3KTQH|0983990662|     222024699|The YMCA of Middl...|           Books|          5|            0|          0|   N|                Y|Great history boo...|Love reading all ...|2015-08-31 00:00:00|\n",
            "|         US|   12641855|R2BB9U7PHO7ETO|156852062X|     388128348|Memoirs By Harry ...|           Books|          5|            0|          1|   N|                Y|          Five Stars|such a great purc...|2015-08-31 00:00:00|\n",
            "|         US|   36327169|R28XJJP754GYXO|B0007E4WJ4|     842975364|Arms of our fight...|           Books|          4|            0|          0|   N|                Y|          Four Stars|book was fine Tha...|2015-08-31 00:00:00|\n",
            "|         US|   49735028|R2G519UREHRO8M|0664254969|     248307276|Presbyterian Cree...|           Books|          3|            0|          1|   N|                Y|The Presbyterian ...|The Presbyterian ...|2015-08-31 00:00:00|\n",
            "|         US|   39348901| RPBKCEIN3UISD|1570913722|       9340721|Hello Ocean/Hola mar|           Books|          5|            0|          0|   N|                Y|          Five Stars|beautiful work an...|2015-08-31 00:00:00|\n",
            "|         US|    5782091|R2DOB8482VGJ8W|0345313860|     630892090|The Vampire Lesta...|           Books|          5|            0|          0|   N|                Y|       Shipped fast.|This is my favori...|2015-08-31 00:00:00|\n",
            "|         US|   30063158|R2XKOET5M8W36S|0670025593|     479521754|The Book of Life ...|           Books|          5|            0|          0|   N|                Y|One of my favorites!|Love Deborah Harn...|2015-08-31 00:00:00|\n",
            "|         US|     125518|R377BCSTZ4D2QP|161893158X|     399670838|Disney Descendant...|           Books|          5|            1|          1|   N|                Y|... has all three...|Now my daughter h...|2015-08-31 00:00:00|\n",
            "|         US|   22297413|R3A39XZ5SB97MK|007179512X|      47243107|CompTIA A+ Certif...|           Books|          5|            0|          0|   N|                Y|He said it has be...|Bought this book ...|2015-08-31 00:00:00|\n",
            "+-----------+-----------+--------------+----------+--------------+--------------------+----------------+-----------+-------------+-----------+----+-----------------+--------------------+--------------------+-------------------+\n",
            "only showing top 20 rows\n",
            "\n"
          ]
        }
      ]
    },
    {
      "cell_type": "markdown",
      "metadata": {
        "id": "2yUSe55VY-9t"
      },
      "source": [
        "### Create DataFrames to match tables"
      ]
    },
    {
      "cell_type": "code",
      "metadata": {
        "id": "C8REmY1aY-9u",
        "colab": {
          "base_uri": "https://localhost:8080/"
        },
        "outputId": "a55adc9f-5c77-4d4b-a6ac-f022645da54f"
      },
      "source": [
        "from pyspark.sql.functions import to_date\n",
        "# Read in the Review dataset as a DataFrame\n",
        "df.show()"
      ],
      "execution_count": 5,
      "outputs": [
        {
          "output_type": "stream",
          "name": "stdout",
          "text": [
            "+-----------+-----------+--------------+----------+--------------+--------------------+----------------+-----------+-------------+-----------+----+-----------------+--------------------+--------------------+-------------------+\n",
            "|marketplace|customer_id|     review_id|product_id|product_parent|       product_title|product_category|star_rating|helpful_votes|total_votes|vine|verified_purchase|     review_headline|         review_body|        review_date|\n",
            "+-----------+-----------+--------------+----------+--------------+--------------------+----------------+-----------+-------------+-----------+----+-----------------+--------------------+--------------------+-------------------+\n",
            "|         US|   25933450| RJOVP071AVAJO|0439873800|      84656342|There Was an Old ...|           Books|          5|            0|          0|   N|                Y|          Five Stars|I love it and so ...|2015-08-31 00:00:00|\n",
            "|         US|    1801372|R1ORGBETCDW3AI|1623953553|     729938122|      I Saw a Friend|           Books|          5|            0|          0|   N|                Y|Please buy \"I Saw...|My wife and I ord...|2015-08-31 00:00:00|\n",
            "|         US|    5782091| R7TNRFQAOUTX5|142151981X|     678139048|Black Lagoon, Vol. 6|           Books|          5|            0|          0|   N|                Y|       Shipped fast.|Great book just l...|2015-08-31 00:00:00|\n",
            "|         US|   32715830|R2GANXKDIFZ6OI|014241543X|     712432151|           If I Stay|           Books|          5|            0|          0|   N|                N|          Five Stars|        So beautiful|2015-08-31 00:00:00|\n",
            "|         US|   14005703|R2NYB6C3R8LVN6|1604600527|     800572372|Stars 'N Strips F...|           Books|          5|            2|          2|   N|                Y|          Five Stars|Enjoyed the autho...|2015-08-31 00:00:00|\n",
            "|         US|   36205738|R13U5PBJI1H94K|0399170863|     559876774|            The Liar|           Books|          2|            1|          1|   N|                N|PREDICTABLE ALMOS...|Two or three page...|2015-08-31 00:00:00|\n",
            "|         US|   44121167|R1H8UVH990F8VE|1517007240|     299984591|Devil in the Deta...|           Books|          5|            2|          2|   N|                N|The Monastery Mur...|&#34;Secrets in t...|2015-08-31 00:00:00|\n",
            "|         US|   16519255|R2MC0N30WZMRQ5|0671728725|     821650353|Knowing When to S...|           Books|          5|            0|          0|   N|                Y|          Five Stars|          I love it!|2015-08-31 00:00:00|\n",
            "|         US|   49361350| R2NO2HXK16Y4J|1111349533|     419457767|The American Pageant|           Books|          5|            0|          0|   N|                Y|          Five Stars|It was a great pu...|2015-08-31 00:00:00|\n",
            "|         US|   11423253|R245YIAVJK82ZL|812211637X|     285887177|Punjabi C.L. Bibl...|           Books|          5|            0|          0|   N|                Y|          Five Stars|Quality product f...|2015-08-31 00:00:00|\n",
            "|         US|   37536260| RFBMLBWQOZ1UM|0679413359|      58983679|The Aeneid (Every...|           Books|          5|            0|          0|   N|                Y|          Five Stars|          Very happy|2015-08-31 00:00:00|\n",
            "|         US|   23614950| RHE1FEWV3KTQH|0983990662|     222024699|The YMCA of Middl...|           Books|          5|            0|          0|   N|                Y|Great history boo...|Love reading all ...|2015-08-31 00:00:00|\n",
            "|         US|   12641855|R2BB9U7PHO7ETO|156852062X|     388128348|Memoirs By Harry ...|           Books|          5|            0|          1|   N|                Y|          Five Stars|such a great purc...|2015-08-31 00:00:00|\n",
            "|         US|   36327169|R28XJJP754GYXO|B0007E4WJ4|     842975364|Arms of our fight...|           Books|          4|            0|          0|   N|                Y|          Four Stars|book was fine Tha...|2015-08-31 00:00:00|\n",
            "|         US|   49735028|R2G519UREHRO8M|0664254969|     248307276|Presbyterian Cree...|           Books|          3|            0|          1|   N|                Y|The Presbyterian ...|The Presbyterian ...|2015-08-31 00:00:00|\n",
            "|         US|   39348901| RPBKCEIN3UISD|1570913722|       9340721|Hello Ocean/Hola mar|           Books|          5|            0|          0|   N|                Y|          Five Stars|beautiful work an...|2015-08-31 00:00:00|\n",
            "|         US|    5782091|R2DOB8482VGJ8W|0345313860|     630892090|The Vampire Lesta...|           Books|          5|            0|          0|   N|                Y|       Shipped fast.|This is my favori...|2015-08-31 00:00:00|\n",
            "|         US|   30063158|R2XKOET5M8W36S|0670025593|     479521754|The Book of Life ...|           Books|          5|            0|          0|   N|                Y|One of my favorites!|Love Deborah Harn...|2015-08-31 00:00:00|\n",
            "|         US|     125518|R377BCSTZ4D2QP|161893158X|     399670838|Disney Descendant...|           Books|          5|            1|          1|   N|                Y|... has all three...|Now my daughter h...|2015-08-31 00:00:00|\n",
            "|         US|   22297413|R3A39XZ5SB97MK|007179512X|      47243107|CompTIA A+ Certif...|           Books|          5|            0|          0|   N|                Y|He said it has be...|Bought this book ...|2015-08-31 00:00:00|\n",
            "+-----------+-----------+--------------+----------+--------------+--------------------+----------------+-----------+-------------+-----------+----+-----------------+--------------------+--------------------+-------------------+\n",
            "only showing top 20 rows\n",
            "\n"
          ]
        }
      ]
    },
    {
      "cell_type": "code",
      "metadata": {
        "id": "lzMmkdKmY--D",
        "colab": {
          "base_uri": "https://localhost:8080/"
        },
        "outputId": "c471d97a-7504-41e2-b89d-b6865efc79a0"
      },
      "source": [
        "# Create the vine_table. DataFrame\n",
        "vine_df = df.select([\"review_id\", \"star_rating\", \"helpful_votes\", \"total_votes\", \"vine\", \"verified_purchase\"])\n",
        "vine_df.show()"
      ],
      "execution_count": 6,
      "outputs": [
        {
          "output_type": "stream",
          "name": "stdout",
          "text": [
            "+--------------+-----------+-------------+-----------+----+-----------------+\n",
            "|     review_id|star_rating|helpful_votes|total_votes|vine|verified_purchase|\n",
            "+--------------+-----------+-------------+-----------+----+-----------------+\n",
            "| RJOVP071AVAJO|          5|            0|          0|   N|                Y|\n",
            "|R1ORGBETCDW3AI|          5|            0|          0|   N|                Y|\n",
            "| R7TNRFQAOUTX5|          5|            0|          0|   N|                Y|\n",
            "|R2GANXKDIFZ6OI|          5|            0|          0|   N|                N|\n",
            "|R2NYB6C3R8LVN6|          5|            2|          2|   N|                Y|\n",
            "|R13U5PBJI1H94K|          2|            1|          1|   N|                N|\n",
            "|R1H8UVH990F8VE|          5|            2|          2|   N|                N|\n",
            "|R2MC0N30WZMRQ5|          5|            0|          0|   N|                Y|\n",
            "| R2NO2HXK16Y4J|          5|            0|          0|   N|                Y|\n",
            "|R245YIAVJK82ZL|          5|            0|          0|   N|                Y|\n",
            "| RFBMLBWQOZ1UM|          5|            0|          0|   N|                Y|\n",
            "| RHE1FEWV3KTQH|          5|            0|          0|   N|                Y|\n",
            "|R2BB9U7PHO7ETO|          5|            0|          1|   N|                Y|\n",
            "|R28XJJP754GYXO|          4|            0|          0|   N|                Y|\n",
            "|R2G519UREHRO8M|          3|            0|          1|   N|                Y|\n",
            "| RPBKCEIN3UISD|          5|            0|          0|   N|                Y|\n",
            "|R2DOB8482VGJ8W|          5|            0|          0|   N|                Y|\n",
            "|R2XKOET5M8W36S|          5|            0|          0|   N|                Y|\n",
            "|R377BCSTZ4D2QP|          5|            1|          1|   N|                Y|\n",
            "|R3A39XZ5SB97MK|          5|            0|          0|   N|                Y|\n",
            "+--------------+-----------+-------------+-----------+----+-----------------+\n",
            "only showing top 20 rows\n",
            "\n"
          ]
        }
      ]
    },
    {
      "cell_type": "code",
      "source": [
        " #Filter the vine_table to retrieve all votes where the total_votes >= to 20\n",
        " total_votes_df = vine_df.filter(vine_df.total_votes >= 20)\n",
        " total_votes_df.show()"
      ],
      "metadata": {
        "colab": {
          "base_uri": "https://localhost:8080/"
        },
        "id": "ks-9gD_drw_Y",
        "outputId": "cfc4b6e6-2fdc-47ff-9db7-3d2c3067ac74"
      },
      "execution_count": 8,
      "outputs": [
        {
          "output_type": "stream",
          "name": "stdout",
          "text": [
            "+--------------+-----------+-------------+-----------+----+-----------------+\n",
            "|     review_id|star_rating|helpful_votes|total_votes|vine|verified_purchase|\n",
            "+--------------+-----------+-------------+-----------+----+-----------------+\n",
            "|R3T6LR4H11XRAN|          5|           26|         26|   N|                Y|\n",
            "|R3QFNFMFWOQIBO|          3|           15|         25|   N|                Y|\n",
            "|R24S2SV0ZIFIMV|          1|           41|         78|   N|                N|\n",
            "|R2QAPWF1M5863L|          1|            5|         23|   N|                N|\n",
            "|R3OCONKYE1A047|          5|           33|         38|   N|                N|\n",
            "|R28WZIA84DUP6C|          2|            4|         43|   N|                N|\n",
            "|R2U7YNJZ5JHWVD|          5|           23|         25|   N|                Y|\n",
            "|R1XVYF74WCJKO3|          1|           47|         49|   N|                N|\n",
            "|R3KKWNG5VABDYC|          5|           31|         32|   Y|                N|\n",
            "|R3KK9MHFLY2BVW|          5|           21|         22|   N|                N|\n",
            "|R2OEP8MGX5K370|          5|           30|         34|   N|                Y|\n",
            "| RTX63ENBKWCXF|          1|           28|         35|   N|                N|\n",
            "|R38I0D0J8O6LB6|          5|          101|        102|   N|                Y|\n",
            "|R16H89H2ZPISOL|          5|           66|         73|   N|                Y|\n",
            "|R1O92J5SV8J8G6|          5|          100|        102|   N|                Y|\n",
            "|R2N899RTMS7B7A|          1|           14|         20|   N|                Y|\n",
            "| RNRGC6W09WQM2|          1|            0|         45|   N|                Y|\n",
            "|R1FB2TRCTRIWWL|          1|            3|         20|   N|                N|\n",
            "| RO7NYOSZ65X1T|          1|            1|         76|   N|                N|\n",
            "|R2D9XX1FUD30NT|          1|           21|        213|   N|                N|\n",
            "+--------------+-----------+-------------+-----------+----+-----------------+\n",
            "only showing top 20 rows\n",
            "\n"
          ]
        }
      ]
    },
    {
      "cell_type": "code",
      "source": [
        "from pyspark.sql import functions as F\n",
        "\n",
        "#Create new dataframe to retrieve all helpful_votes/total_votes >= 50%\n",
        "total_votes_df = total_votes_df.withColumn(\"Percentage\", F.col(\"helpful_votes\")/F.col(\"total_votes\")*100)\n",
        "total_votes_df = total_votes_df.withColumn (\"Percentage\", F.round(F.col(\"Percentage\"),2))\n",
        "\n",
        "#total_votes_df.show()\n",
        "\n",
        "helpful_votes_df = total_votes_df.filter(total_votes_df.Percentage >= 50)\n",
        "helpful_votes_df.show()"
      ],
      "metadata": {
        "colab": {
          "base_uri": "https://localhost:8080/"
        },
        "id": "Ib3SBjHxue1e",
        "outputId": "f3741c41-7ed0-4627-d8ed-2ef1aa62f94a"
      },
      "execution_count": 31,
      "outputs": [
        {
          "output_type": "stream",
          "name": "stdout",
          "text": [
            "+--------------+-----------+-------------+-----------+----+-----------------+----------+\n",
            "|     review_id|star_rating|helpful_votes|total_votes|vine|verified_purchase|Percentage|\n",
            "+--------------+-----------+-------------+-----------+----+-----------------+----------+\n",
            "|R3T6LR4H11XRAN|          5|           26|         26|   N|                Y|     100.0|\n",
            "|R3QFNFMFWOQIBO|          3|           15|         25|   N|                Y|      60.0|\n",
            "|R24S2SV0ZIFIMV|          1|           41|         78|   N|                N|     52.56|\n",
            "|R3OCONKYE1A047|          5|           33|         38|   N|                N|     86.84|\n",
            "|R2U7YNJZ5JHWVD|          5|           23|         25|   N|                Y|      92.0|\n",
            "|R1XVYF74WCJKO3|          1|           47|         49|   N|                N|     95.92|\n",
            "|R3KKWNG5VABDYC|          5|           31|         32|   Y|                N|     96.88|\n",
            "|R3KK9MHFLY2BVW|          5|           21|         22|   N|                N|     95.45|\n",
            "|R2OEP8MGX5K370|          5|           30|         34|   N|                Y|     88.24|\n",
            "| RTX63ENBKWCXF|          1|           28|         35|   N|                N|      80.0|\n",
            "|R38I0D0J8O6LB6|          5|          101|        102|   N|                Y|     99.02|\n",
            "|R16H89H2ZPISOL|          5|           66|         73|   N|                Y|     90.41|\n",
            "|R1O92J5SV8J8G6|          5|          100|        102|   N|                Y|     98.04|\n",
            "|R2N899RTMS7B7A|          1|           14|         20|   N|                Y|      70.0|\n",
            "|R2K2D1XN0J8SD5|          4|           19|         21|   N|                Y|     90.48|\n",
            "| RERKINI37W6KC|          5|           28|         31|   N|                Y|     90.32|\n",
            "| R9GDG4O1ZK10T|          1|           71|         86|   N|                Y|     82.56|\n",
            "|R3GOLJQC9OI7D4|          4|           28|         28|   N|                Y|     100.0|\n",
            "|R37RUX3TXFJN24|          5|           52|         58|   N|                Y|     89.66|\n",
            "|R1ESSNVJW3N2K4|          5|           42|         45|   N|                Y|     93.33|\n",
            "+--------------+-----------+-------------+-----------+----+-----------------+----------+\n",
            "only showing top 20 rows\n",
            "\n"
          ]
        }
      ]
    },
    {
      "cell_type": "code",
      "source": [
        "paid_df = helpful_votes_df. filter(helpful_votes_df.vine == \"Y\")\n",
        "paid_df.show() "
      ],
      "metadata": {
        "colab": {
          "base_uri": "https://localhost:8080/"
        },
        "id": "rVX3JFTq6zgA",
        "outputId": "5d64bd01-c959-4d54-8f79-0d3f155a56d2"
      },
      "execution_count": 32,
      "outputs": [
        {
          "output_type": "stream",
          "name": "stdout",
          "text": [
            "+--------------+-----------+-------------+-----------+----+-----------------+----------+\n",
            "|     review_id|star_rating|helpful_votes|total_votes|vine|verified_purchase|Percentage|\n",
            "+--------------+-----------+-------------+-----------+----+-----------------+----------+\n",
            "|R3KKWNG5VABDYC|          5|           31|         32|   Y|                N|     96.88|\n",
            "|R397PIJYYVJ7PD|          4|           31|         32|   Y|                N|     96.88|\n",
            "| RP6Y2CTIFUYD0|          2|           31|         32|   Y|                N|     96.88|\n",
            "|R1FYRNM5U0S2VZ|          3|           20|         24|   Y|                N|     83.33|\n",
            "| R1ME19UY4UNAO|          5|           53|         57|   Y|                N|     92.98|\n",
            "|R1JW7ZHT2VLT1E|          3|           40|         45|   Y|                N|     88.89|\n",
            "| R98UYXY43TURV|          4|           46|         50|   Y|                N|      92.0|\n",
            "|R34VXM3EJDS78Z|          3|          374|        410|   Y|                N|     91.22|\n",
            "|R1QX8UOW5JO6L0|          4|           20|         21|   Y|                N|     95.24|\n",
            "| R5Y5SXCRQ2GNH|          3|           34|         37|   Y|                N|     91.89|\n",
            "|R2PBQNQR80F6HP|          4|           20|         20|   Y|                N|     100.0|\n",
            "|R1YI5U4BF4ZLRQ|          3|           16|         20|   Y|                N|      80.0|\n",
            "|R1Q5ZXA44R3E76|          4|           28|         31|   Y|                N|     90.32|\n",
            "| RCLSDAIJR6FUG|          5|          113|        123|   Y|                N|     91.87|\n",
            "|R30QKO5AIO2828|          5|           17|         20|   Y|                N|      85.0|\n",
            "|R3TPSU0ZG7K5RA|          5|           34|         37|   Y|                N|     91.89|\n",
            "|R3HSQ5EH8IIUOM|          4|           49|         63|   Y|                N|     77.78|\n",
            "|R2L4DAT0DWS9P3|          4|           28|         29|   Y|                N|     96.55|\n",
            "|R2TSF7WN3DY921|          5|           22|         26|   Y|                N|     84.62|\n",
            "|R1LY9Y3SS9JCTR|          2|           53|        100|   Y|                N|      53.0|\n",
            "+--------------+-----------+-------------+-----------+----+-----------------+----------+\n",
            "only showing top 20 rows\n",
            "\n"
          ]
        }
      ]
    },
    {
      "cell_type": "code",
      "source": [
        "unpaid_df = helpful_votes_df. filter(helpful_votes_df.vine == \"N\")\n",
        "unpaid_df.show()"
      ],
      "metadata": {
        "colab": {
          "base_uri": "https://localhost:8080/"
        },
        "id": "60-q-OQy7j_e",
        "outputId": "66efa10f-6024-49d4-b424-607ab6a90f2a"
      },
      "execution_count": 33,
      "outputs": [
        {
          "output_type": "stream",
          "name": "stdout",
          "text": [
            "+--------------+-----------+-------------+-----------+----+-----------------+----------+\n",
            "|     review_id|star_rating|helpful_votes|total_votes|vine|verified_purchase|Percentage|\n",
            "+--------------+-----------+-------------+-----------+----+-----------------+----------+\n",
            "|R3T6LR4H11XRAN|          5|           26|         26|   N|                Y|     100.0|\n",
            "|R3QFNFMFWOQIBO|          3|           15|         25|   N|                Y|      60.0|\n",
            "|R24S2SV0ZIFIMV|          1|           41|         78|   N|                N|     52.56|\n",
            "|R3OCONKYE1A047|          5|           33|         38|   N|                N|     86.84|\n",
            "|R2U7YNJZ5JHWVD|          5|           23|         25|   N|                Y|      92.0|\n",
            "|R1XVYF74WCJKO3|          1|           47|         49|   N|                N|     95.92|\n",
            "|R3KK9MHFLY2BVW|          5|           21|         22|   N|                N|     95.45|\n",
            "|R2OEP8MGX5K370|          5|           30|         34|   N|                Y|     88.24|\n",
            "| RTX63ENBKWCXF|          1|           28|         35|   N|                N|      80.0|\n",
            "|R38I0D0J8O6LB6|          5|          101|        102|   N|                Y|     99.02|\n",
            "|R16H89H2ZPISOL|          5|           66|         73|   N|                Y|     90.41|\n",
            "|R1O92J5SV8J8G6|          5|          100|        102|   N|                Y|     98.04|\n",
            "|R2N899RTMS7B7A|          1|           14|         20|   N|                Y|      70.0|\n",
            "|R2K2D1XN0J8SD5|          4|           19|         21|   N|                Y|     90.48|\n",
            "| RERKINI37W6KC|          5|           28|         31|   N|                Y|     90.32|\n",
            "| R9GDG4O1ZK10T|          1|           71|         86|   N|                Y|     82.56|\n",
            "|R3GOLJQC9OI7D4|          4|           28|         28|   N|                Y|     100.0|\n",
            "|R37RUX3TXFJN24|          5|           52|         58|   N|                Y|     89.66|\n",
            "|R1ESSNVJW3N2K4|          5|           42|         45|   N|                Y|     93.33|\n",
            "|R1Q1VLGAFGHLN7|          2|           78|         85|   N|                Y|     91.76|\n",
            "+--------------+-----------+-------------+-----------+----+-----------------+----------+\n",
            "only showing top 20 rows\n",
            "\n"
          ]
        }
      ]
    },
    {
      "cell_type": "code",
      "source": [
        "#Determine total paid reviews\n",
        "total_paid_reviews = paid_df.count()\n",
        "print(f\"Paid DataFrame review count: {total_paid_reviews}\")"
      ],
      "metadata": {
        "colab": {
          "base_uri": "https://localhost:8080/"
        },
        "id": "HzSp4hP4716o",
        "outputId": "864f5b46-5ec5-4633-ace1-e0a32598ac42"
      },
      "execution_count": 34,
      "outputs": [
        {
          "output_type": "stream",
          "name": "stdout",
          "text": [
            "Paid DataFrame review count: 5012\n"
          ]
        }
      ]
    },
    {
      "cell_type": "code",
      "source": [
        "#Determine number of 5-star reviews for paid\n",
        "total_five_paid = paid_df.where(paid_df.star_rating == '5').count()\n",
        "print(f\"Paid 5-star review count: {total_five_paid}\")"
      ],
      "metadata": {
        "colab": {
          "base_uri": "https://localhost:8080/"
        },
        "id": "sp5aQ-hn9SxV",
        "outputId": "07378a6d-89b3-43a5-89f9-6557505578c8"
      },
      "execution_count": 37,
      "outputs": [
        {
          "output_type": "stream",
          "name": "stdout",
          "text": [
            "Paid 5-star review count: 2031\n"
          ]
        }
      ]
    },
    {
      "cell_type": "code",
      "source": [
        "percentage_five_paid = round(total_five_paid/total_paid_reviews * 100, 2)\n",
        "print(f\"Paid 5-star review percentage: {percentage_five_paid}%\")"
      ],
      "metadata": {
        "colab": {
          "base_uri": "https://localhost:8080/"
        },
        "id": "JM6wVL3z_itX",
        "outputId": "6d4c2362-d0c6-414d-dfbc-f68aef26ebc0"
      },
      "execution_count": 40,
      "outputs": [
        {
          "output_type": "stream",
          "name": "stdout",
          "text": [
            "Paid 5-star review percentage: 40.52%\n"
          ]
        }
      ]
    },
    {
      "cell_type": "code",
      "source": [
        "#Determine total unpaid reviews\n",
        "total_unpaid_reviews = unpaid_df.count()\n",
        "print(f\"Unpaid DataFrame review count: {total_unpaid_reviews}\")"
      ],
      "metadata": {
        "colab": {
          "base_uri": "https://localhost:8080/"
        },
        "id": "K8cnDIDMAn7o",
        "outputId": "e5206943-0768-443f-f1e2-2db82af4a7bb"
      },
      "execution_count": 41,
      "outputs": [
        {
          "output_type": "stream",
          "name": "stdout",
          "text": [
            "Unpaid DataFrame review count: 109297\n"
          ]
        }
      ]
    },
    {
      "cell_type": "code",
      "source": [
        "#Determine number of 5-star reviews for unpaid\n",
        "total_five_unpaid = unpaid_df.where(unpaid_df.star_rating == '5').count()\n",
        "print(f\"Unpaid 5-star review count: {total_five_unpaid}\")"
      ],
      "metadata": {
        "colab": {
          "base_uri": "https://localhost:8080/"
        },
        "id": "ZLBD5MqGBXgS",
        "outputId": "b541397a-f199-4ccc-9577-6621e82feb66"
      },
      "execution_count": 43,
      "outputs": [
        {
          "output_type": "stream",
          "name": "stdout",
          "text": [
            "Unpaid 5-star review count: 49967\n"
          ]
        }
      ]
    },
    {
      "cell_type": "code",
      "source": [
        "percentage_five_unpaid = round(total_five_unpaid/total_unpaid_reviews * 100, 2)\n",
        "print(f\"Unpaid 5-star review percentage: {percentage_five_unpaid}%\")"
      ],
      "metadata": {
        "colab": {
          "base_uri": "https://localhost:8080/"
        },
        "id": "m2bKzbWfCumZ",
        "outputId": "83eb6f26-22df-4308-9118-004cc6cec42e"
      },
      "execution_count": 44,
      "outputs": [
        {
          "output_type": "stream",
          "name": "stdout",
          "text": [
            "Unpaid 5-star review percentage: 45.72%\n"
          ]
        }
      ]
    }
  ]
}